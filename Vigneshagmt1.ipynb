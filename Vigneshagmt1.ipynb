{
 "cells": [
  {
   "cell_type": "code",
   "execution_count": 2,
   "id": "deabb8af-19d0-4243-bd92-a05c508e5ca6",
   "metadata": {},
   "outputs": [
    {
     "name": "stdout",
     "output_type": "stream",
     "text": [
      "Hello World\n"
     ]
    }
   ],
   "source": [
    "print('Hello World')"
   ]
  },
  {
   "cell_type": "code",
   "execution_count": 13,
   "id": "a40ad0d4-1878-4f60-9ad1-c84946475908",
   "metadata": {},
   "outputs": [
    {
     "name": "stdout",
     "output_type": "stream",
     "text": [
      "[1, 0, 76, 43, 8, 10, 3, 96, 9, 18, 30, 44, 44]\n",
      "Maximum =  96\n",
      "Append =\n",
      "way1:  [22, 33, 88, 66, 8, 10, 96, 9, 1, 0]\n",
      "way2:  [1, 0, 76, 43, 8, 10, 3, 96, 9, 18, 30, 44, 44, 22, 33, 88, 66, 8, 10, 96, 9, 1, 0]\n",
      "way3:  [1, 0, 76, 43, 8, 10, 3, 96, 9, 18, 30, 44, 44, 22, 33, 88, 66, 8, 10, 96, 9, 1, 0]\n",
      "Reverse of b= [22, 33, 88, 66, 8, 10, 96, 9, 1, 0]\n",
      "[0, 1, 9, 96, 10, 8, 66, 88, 33, 22]\n",
      "[0, 96, 66, 22]\n",
      "[0, 96, 66]\n",
      "[0, 1, 9, 96, 10, 8, 66, 88, 33, 22]\n",
      "None\n",
      "interchange of c= [22, 33, 88, 66, 8, 10, 96, 9, 1, 0]\n",
      "[0, 33, 88, 66, 8, 10, 96, 9, 1, 22]\n",
      "[0, 33, 88, 66, 8, 10, 96, 9, 1, 22]\n",
      "substring\n",
      "True\n",
      "['two']\n"
     ]
    }
   ],
   "source": [
    "#Asgmt 1\n",
    "a = [1, 0, 76, 43,8,10, 3, 96, 9, 18, 30,44, 44]\n",
    "print(a)\n",
    "\n",
    "#max\n",
    "maxValue= max(a)\n",
    "print('Maximum = ', maxValue)\n",
    "\n",
    "#append\n",
    "print('Append =')\n",
    "b = [22,33,88, 66, 8, 10, 96, 9, 1, 0]\n",
    "c=[]\n",
    "for i in b:\n",
    "    c.append(i)\n",
    "print('way1: ',c)\n",
    "d = a + b\n",
    "print('way2: ',d)\n",
    "a.extend(b)\n",
    "print('way3: ',a)\n",
    "\n",
    "#reverse\n",
    "print('Reverse of b=',b)\n",
    "print(b[::-1])\n",
    "print(b[::-3])\n",
    "print(b[:1:-3])\n",
    "def Rev(lst):\n",
    "    return [ele for ele in reversed(b)]\n",
    "print(Rev(b))\n",
    "e = b.reverse()\n",
    "print(e) #none\n",
    "\n",
    "#interchange 1st and last\n",
    "print('interchange of c=',c)\n",
    "def swapList(pList):\n",
    "    pList[0], pList[-1] = pList[-1], pList[0]\n",
    "    return pList\n",
    "print(swapList(c))\n",
    "print(c) #passbyReference\n",
    "\n",
    "#substring check\n",
    "print('substring')\n",
    "strings = [\"one\", \"two\", \"three\"]\n",
    "substring = \"wo\"\n",
    "substring_in_list = any(substring in string for string in strings)\n",
    "print(substring_in_list) #boolean\n",
    "strings_with_substring = [string for string in strings if substring in string]\n",
    "print(strings_with_substring) #that list string"
   ]
  },
  {
   "cell_type": "code",
   "execution_count": 63,
   "id": "02868b4e-49b9-41e1-ada0-cbdc8338feab",
   "metadata": {},
   "outputs": [
    {
     "name": "stdout",
     "output_type": "stream",
     "text": [
      "[0, 1, 2, 3, 4, 5, 6, 7, 9]\n",
      "[0, 1, 4, 5, 6, 7, 8, 9]\n",
      "[0, 1, 2, 3, 5, 6, 7, 8, 9]\n"
     ]
    }
   ],
   "source": [
    "#Asgmt 2\n",
    "#delete by index\n",
    "a = [0, 1, 2, 3, 4, 5, 6, 7, 8, 9]\n",
    "b = [0, 1, 2, 3, 4, 5, 6, 7, 8, 9]\n",
    "c = [0, 1, 2, 3, 4, 5, 6, 7, 8, 9]\n",
    "del a[-2]\n",
    "print(a)\n",
    "del b[2:4]\n",
    "print(b)\n",
    "del c[4]  #generally index starts from 0\n",
    "print(c)"
   ]
  },
  {
   "cell_type": "code",
   "execution_count": 64,
   "id": "58b07191-adbe-49e2-bba7-db32c892f9a3",
   "metadata": {},
   "outputs": [
    {
     "name": "stdin",
     "output_type": "stream",
     "text": [
      "Enter a number:  43\n"
     ]
    },
    {
     "name": "stdout",
     "output_type": "stream",
     "text": [
      "43 is Odd\n"
     ]
    }
   ],
   "source": [
    "#Asgmt 3\n",
    "#OddorEven\n",
    "num = int(input(\"Enter a number: \"))\n",
    "if (num % 2) == 0:\n",
    "   print(\"{0} is Even\".format(num))\n",
    "else:\n",
    "   print(\"{0} is Odd\".format(num))"
   ]
  },
  {
   "cell_type": "code",
   "execution_count": 74,
   "id": "2046dfd0-9cb8-408b-bbd1-54349a9f40ac",
   "metadata": {},
   "outputs": [
    {
     "name": "stdin",
     "output_type": "stream",
     "text": [
      "Enter a number:  6\n"
     ]
    },
    {
     "name": "stdout",
     "output_type": "stream",
     "text": [
      "The factorial of 6 is 720\n"
     ]
    }
   ],
   "source": [
    "#Asgmt 4\n",
    "#factorial\n",
    "num = int(input(\"Enter a number: \"))\n",
    "factorial = 1\n",
    "if num < 0:\n",
    "   print(\"Sorry, factorial does not exist for negative numbers\")\n",
    "elif num == 0:\n",
    "   print(\"The factorial of 0 is 1\")\n",
    "else:\n",
    "   for i in range(1,num + 1):\n",
    "       factorial = factorial*i\n",
    "   print(\"The factorial of\",num,\"is\",factorial)"
   ]
  },
  {
   "cell_type": "code",
   "execution_count": 73,
   "id": "b3dbd2c6-804b-4f6c-b8c6-93b8672c8274",
   "metadata": {},
   "outputs": [
    {
     "name": "stdout",
     "output_type": "stream",
     "text": [
      "(1, 2) (2, 56) (3, 323) (4, 24) (5, 12) (6, 18) "
     ]
    }
   ],
   "source": [
    "#Asgmt 5\n",
    "#dictionary aka map\n",
    "def dictionary(): \n",
    "    map1 ={}   \n",
    "    \n",
    "    map1[2] = 56      \n",
    "    map1[1] = 2\n",
    "    map1[5] = 12\n",
    "    map1[4] = 24\n",
    "    map1[6] = 18     \n",
    "    map1[3] = 323\n",
    "    \n",
    "    for i in sorted (map1) :   #be default sorted with keys\n",
    "        print ((i, map1[i]), end =\" \")\n",
    "\n",
    "dictionary()"
   ]
  },
  {
   "cell_type": "code",
   "execution_count": 81,
   "id": "36e1343c-654c-4790-8198-c02877cbc8d8",
   "metadata": {},
   "outputs": [
    {
     "name": "stdin",
     "output_type": "stream",
     "text": [
      "Enter a number:  2\n"
     ]
    },
    {
     "name": "stdout",
     "output_type": "stream",
     "text": [
      "0.6931471805599453\n"
     ]
    }
   ],
   "source": [
    "#Asgmt 6\n",
    "#log\n",
    "import math\n",
    "num = int(input(\"Enter a number: \"))\n",
    "if num < 0:\n",
    "   print(\"Invalid\")\n",
    "elif num == 0:\n",
    "   print(\"It is undefined, come on\")\n",
    "else:\n",
    "   print(math.log(num))"
   ]
  },
  {
   "cell_type": "code",
   "execution_count": 83,
   "id": "72dc93e1-618e-453a-bb7a-c8f5b976c8b9",
   "metadata": {},
   "outputs": [
    {
     "name": "stdout",
     "output_type": "stream",
     "text": [
      "[13, 10, 20]\n",
      "[9, 20, 15]\n",
      "[6, 4, 10]\n"
     ]
    }
   ],
   "source": [
    "#Asgmt 7\n",
    "#matrix add\n",
    "X = [[4,2,13],\n",
    "    [3 ,15,11],\n",
    "    [3 ,2,9]]\n",
    " \n",
    "Y = [[9,8,7],\n",
    "    [6,5,4],\n",
    "    [3,2,1]]\n",
    " \n",
    " \n",
    "result = [[0,0,0],\n",
    "        [0,0,0],\n",
    "        [0,0,0]]\n",
    " \n",
    "#rows\n",
    "for i in range(len(X)):  \n",
    "    #columns\n",
    "    for j in range(len(X[0])):\n",
    "        result[i][j] = X[i][j] + Y[i][j]\n",
    " \n",
    "for r in result:\n",
    "    print(r)"
   ]
  },
  {
   "cell_type": "code",
   "execution_count": 21,
   "id": "737ece74-4a2f-4960-8cfb-2c0878ffc89b",
   "metadata": {},
   "outputs": [
    {
     "name": "stdout",
     "output_type": "stream",
     "text": [
      "creating-----------------\n",
      "  Name  Age   Color\n",
      "0  Tom   24    Blue\n",
      "1  Vig   21  Orange\n",
      "2  Joe   19    Pink\n",
      "3  Ann   34  Yellow\n",
      "insert column-----------------\n",
      "  Name  Age   Color  NID\n",
      "0  Tom   24    Blue  101\n",
      "1  Vig   21  Orange  102\n",
      "2  Joe   19    Pink  103\n",
      "3  Ann   34  Yellow  104\n",
      "addTuple-----------------\n",
      "  Name   Age   Color    NID      0\n",
      "0  Tom  24.0    Blue  101.0    NaN\n",
      "1  Vig  21.0  Orange  102.0    NaN\n",
      "2  Joe  19.0    Pink  103.0    NaN\n",
      "3  Ann  34.0  Yellow  104.0    NaN\n",
      "4  NaN   NaN     NaN    NaN  Steve\n",
      "5  NaN   NaN     NaN    NaN     11\n",
      "6  NaN   NaN     NaN    NaN    Red\n",
      "iterateRows-----------------\n",
      "Tom 24 Blue 101\n",
      "Vig 21 Orange 102\n",
      "Joe 19 Pink 103\n",
      "Ann 34 Yellow 104\n",
      "columnNames-----------------\n",
      "Name\n",
      "Age\n",
      "Color\n",
      "NID\n",
      "iterate & filter Rows-----------------\n",
      "Tom 24 Blue 101\n",
      "Vig 21 Orange 102\n",
      "Ann 34 Yellow 104\n",
      "exporting & importing-----------------\n",
      "DataFrame is written to Excel File successfully.\n",
      "  Name  Age   Color  NID\n",
      "0  Tom   24    Blue  101\n",
      "1  Vig   21  Orange  102\n",
      "2  Joe   19    Pink  103\n",
      "3  Ann   34  Yellow  104\n",
      "Nan 0-----------------\n",
      "  Name   Age   Color    NID      0\n",
      "0  Tom  24.0    Blue  101.0    NaN\n",
      "1  Vig  21.0  Orange  102.0    NaN\n",
      "2  Joe  19.0    Pink  103.0    NaN\n",
      "3  Ann  34.0  Yellow  104.0    NaN\n",
      "4  NaN   0.0     NaN    NaN  Steve\n",
      "5  NaN   0.0     NaN    NaN     11\n",
      "6  NaN   0.0     NaN    NaN    Red\n",
      "cell change-----------------\n",
      "  Name  Age   Color  NID\n",
      "0  Tom   24    Blue  101\n",
      "1  Vig   22  Orange  102\n",
      "2  Joe   19    Pink  103\n",
      "3  Ann   34  Yellow  104\n",
      "ratio split 3:1 = 0.75-----------------\n",
      "\n",
      "75% of the given DataFrame:\n",
      "  Name  Age   Color  NID\n",
      "0  Tom   24    Blue  101\n",
      "1  Vig   22  Orange  102\n",
      "2  Joe   19    Pink  103\n",
      "\n",
      "rest 25% of the given DataFrame:\n",
      "  Name  Age   Color  NID\n",
      "3  Ann   34  Yellow  104\n",
      "rename Column name-----------------\n",
      "Index(['Names', 'Age', 'Color', 'NID'], dtype='object')\n",
      "last 3 rows-----------------\n",
      "  Names  Age   Color  NID\n",
      "1   Vig   22  Orange  102\n",
      "2   Joe   19    Pink  103\n",
      "3   Ann   34  Yellow  104\n"
     ]
    }
   ],
   "source": [
    "#Asgmt 8\n",
    "import pandas as pd\n",
    "data = {'Name':['Tom', 'Vig', 'Joe', 'Ann'],\n",
    "        'Age':[24, 21, 19, 34],\n",
    "        'Color':['Blue', 'Orange', 'Pink', 'Yellow']\n",
    "       }\n",
    "df = pd.DataFrame(data)\n",
    "print('creating-----------------') \n",
    "print(df)\n",
    "neuid = [101,102,103,104]\n",
    "df['NID'] = neuid\n",
    "print('insert column-----------------')\n",
    "print(df)\n",
    "\n",
    "print('addTuple-----------------')\n",
    "#new = [('Steve', 11, 'Red')]\n",
    "newdf = pd.Series(['Steve', 11, 'Red'])\n",
    "df3 = df     #not cloning\n",
    "df3 = pd.concat([df3, newdf], ignore_index=True)\n",
    "#df3.append({'Name:':'Obama','Age':50, 'Color': 'Red'}, ignore_index=True)\n",
    "print(df3)\n",
    "\n",
    "print('iterateRows-----------------')\n",
    "for index, row in df.iterrows():\n",
    "    print(row['Name'], row['Age'], row['Color'], row['NID'])\n",
    "\n",
    "print('columnNames-----------------')\n",
    "for col in df.columns:\n",
    "    print(col)\n",
    "\n",
    "print('iterate & filter Rows-----------------')\n",
    "for index, row in df.iterrows():\n",
    "    if row['Age']>20:\n",
    "        print(row['Name'], row['Age'], row['Color'], row['NID'])\n",
    "        \n",
    "print('exporting & importing-----------------')\n",
    "file_name = 'export1.xlsx'\n",
    "df.to_excel(file_name)\n",
    "print('DataFrame is written to Excel File successfully.')\n",
    "df2 = pd.read_excel('export1.xlsx', index_col=0)\n",
    "print(df2)\n",
    "\n",
    "print('Nan 0-----------------')\n",
    "import numpy as np\n",
    "df3['Age'] = df3['Age'].replace(np.nan, 0)\n",
    "print(df3)\n",
    "\n",
    "print('cell change-----------------')\n",
    "df2.at[1, 'Age'] = 22\n",
    "print(df2)\n",
    "\n",
    "print('ratio split 3:1 = 0.75-----------------')\n",
    "part_75 = df2.sample(frac = 0.75)\n",
    "rest_part_25 = df2.drop(part_75.index)\n",
    "print(\"\\n75% of the given DataFrame:\")\n",
    "print(part_75)\n",
    "print(\"\\nrest 25% of the given DataFrame:\")\n",
    "print(rest_part_25)\n",
    "\n",
    "print('rename Column name-----------------')\n",
    "df2.rename(columns = {\"Name\": \"Names\"}, \n",
    "          inplace = True)\n",
    "print(df2.columns)\n",
    "\n",
    "print('last 3 rows-----------------')\n",
    "rows = df2.iloc[-3:]\n",
    "print(rows)"
   ]
  },
  {
   "cell_type": "code",
   "execution_count": 75,
   "id": "ea262d72-4a2f-43f7-9b7a-3586271d22b9",
   "metadata": {},
   "outputs": [
    {
     "name": "stdout",
     "output_type": "stream",
     "text": [
      "after removing duplicates : [1, 3, 5, 6, 2]\n",
      "after reversing : [2, 6, 5, 3, 1]\n"
     ]
    }
   ],
   "source": [
    "#Asgmt 9\n",
    "#duplicates reversing\n",
    "listTest = [1, 3, 5, 6, 3, 5, 6, 2, 1]\n",
    "res = []\n",
    "[res.append(x) for x in listTest if x not in res]\n",
    "print (\"after removing duplicates : \" + str(res))\n",
    "print(\"after reversing : \"+ str([ele for ele in reversed(res)]))"
   ]
  },
  {
   "cell_type": "code",
   "execution_count": 74,
   "id": "49b4564b-9e97-4f1c-b61e-a7542f08a204",
   "metadata": {},
   "outputs": [
    {
     "name": "stdout",
     "output_type": "stream",
     "text": [
      "a,2\n",
      "b,2\n",
      "c,2\n",
      "d,1\n",
      "e,1\n",
      "f,1\n",
      "g,1\n",
      "Count of all characters is :\n",
      " {'a': 2, 'b': 2, 'c': 2, 'd': 1, 'e': 1, 'f': 1, 'g': 1}\n",
      "Count of all characters is :\n",
      " Counter({'a': 2, 'b': 2, 'c': 2, 'd': 1, 'e': 1, 'f': 1, 'g': 1})\n"
     ]
    }
   ],
   "source": [
    "#asgmt 10\n",
    "#frequency\n",
    "test_str = \"abcdefgabc\"\n",
    "freq = {}\n",
    "for i in test_str:\n",
    "    if i in freq:\n",
    "        freq[i] += 1\n",
    "    else:\n",
    "        freq[i] = 1\n",
    "for x, y in freq.items():\n",
    "  print(str(x)+','+str(y))\n",
    "print (\"Count of all characters is :\\n \" +  str(freq))\n",
    "from collections import Counter\n",
    "res = Counter(test_str)\n",
    "print (\"Count of all characters is :\\n \" +  str(res))"
   ]
  },
  {
   "cell_type": "code",
   "execution_count": 71,
   "id": "c909f57a-0364-4c7a-a607-a3c407610b5b",
   "metadata": {},
   "outputs": [
    {
     "name": "stdout",
     "output_type": "stream",
     "text": [
      "civic - is not symmertical\n",
      "civic - is palindrome\n"
     ]
    }
   ],
   "source": [
    "#asgmt 11\n",
    "#symmetrical palindrome\n",
    "string = 'civic'\n",
    "half = int(len(string) / 2)\n",
    "if len(string) % 2 == 0:  # even\n",
    "    first_str = string[:half]\n",
    "    second_str = string[half:]\n",
    "else:  # odd\n",
    "    first_str = string[:half]\n",
    "    second_str = string[half+1:]\n",
    "# symmetric\n",
    "if first_str == second_str:\n",
    "    print(string, '- is symmertical')\n",
    "else:\n",
    "    print(string, '- is not symmertical')\n",
    "# palindrome\n",
    "if first_str == second_str[::-1]: \n",
    "    print(string, '- is palindrome')\n",
    "else:\n",
    "    print(string, '- is not palindrome')"
   ]
  },
  {
   "cell_type": "code",
   "execution_count": 76,
   "id": "bf4f0f26-31e6-4842-8590-764bf987473f",
   "metadata": {},
   "outputs": [
    {
     "name": "stdout",
     "output_type": "stream",
     "text": [
      "34\n"
     ]
    }
   ],
   "source": [
    "#asgmt 12\n",
    "#Fibonacci\n",
    "def fibo(n):\n",
    "    if n<= 0:\n",
    "        print(\"Wrong input\")\n",
    "    elif n == 1:\n",
    "        return 0\n",
    "    elif n == 2:\n",
    "        return 1\n",
    "    else:\n",
    "        return fibo(n-1)+fibo(n-2)\n",
    "print(fibo(10))"
   ]
  },
  {
   "cell_type": "code",
   "execution_count": 70,
   "id": "05568208-b4ce-4a60-8a6b-7b7e34006843",
   "metadata": {},
   "outputs": [
    {
     "name": "stdout",
     "output_type": "stream",
     "text": [
      " the mountain w\n"
     ]
    }
   ],
   "source": [
    "#asgmt 13\n",
    "def longestSub(X, Y, m, n):\n",
    " \n",
    "    maxLength = 0  \n",
    "    endingIndex = m \n",
    "    lookup = [[0 for x in range(n + 1)] for y in range(m + 1)]\n",
    "\n",
    "    for i in range(1, m + 1):\n",
    "        for j in range(1, n + 1):\n",
    "\n",
    "            if X[i - 1] == Y[j - 1]:\n",
    "                lookup[i][j] = lookup[i - 1][j - 1] + 1\n",
    "\n",
    "                if lookup[i][j] > maxLength:\n",
    "                    maxLength = lookup[i][j]\n",
    "                    endingIndex = i\n",
    "\n",
    "    return X[endingIndex - maxLength: endingIndex]\n",
    "\n",
    "X = 'on the mountain with'\n",
    "Y = 'at the mountain when'\n",
    "m = len(X)\n",
    "n = len(Y)\n",
    "print(longestSub(X, Y, m, n))"
   ]
  },
  {
   "cell_type": "code",
   "execution_count": 63,
   "id": "d2e8cdc6-6809-4e9b-8173-30271c85f17f",
   "metadata": {},
   "outputs": [
    {
     "name": "stdout",
     "output_type": "stream",
     "text": [
      "Value of 1+2*5+3 is 18\n"
     ]
    }
   ],
   "source": [
    "#Asgmt 14\n",
    "#evaluation\n",
    "def isOperand(c):\n",
    "    return (c >= '0' and c <= '9');\n",
    "\n",
    "def value(c):\n",
    "    return ord(c) - ord('0');\n",
    "\n",
    "def evaluate(exp):\n",
    "    len1 = len(exp);\n",
    "     \n",
    "    if (len1 == 0):\n",
    "        return -1;\n",
    "\n",
    "    res = value(exp[0]);\n",
    "\n",
    "    for i in range(1,len1,2):\n",
    "        opr = exp[i];\n",
    "        opd = exp[i + 1];\n",
    "\n",
    "        if (isOperand(opd)==False):\n",
    "            return -1;\n",
    " \n",
    "        if (opr == '+'):\n",
    "            res += value(opd);\n",
    "        elif (opr == '-'):\n",
    "            res -= int(value(opd));\n",
    "        elif (opr == '*'):\n",
    "            res *= int(value(opd));\n",
    "        elif (opr == '/'):\n",
    "            res /= int(value(opd));\n",
    "        else:\n",
    "            return -1;     \n",
    "    return res;\n",
    "\n",
    "expr1 = \"1+2*5+3\";\n",
    "res = evaluate(expr1);\n",
    "print(expr1,\"is Invalid\") if (res == -1) else print(\"Value of\",expr1,\"is\",res);"
   ]
  },
  {
   "cell_type": "code",
   "execution_count": 17,
   "id": "644a6e11-d329-44f1-8bf2-3ebaaa748c3d",
   "metadata": {},
   "outputs": [
    {
     "name": "stdout",
     "output_type": "stream",
     "text": [
      "-------DataFrame is initalised from Excel File -------\n",
      "    Sex        Age  Time_at_address Res_status  Telephone Occupation  \\\n",
      "0     M  50.750000            0.585      owner      given  unemploye   \n",
      "1     M  19.670000           10.000       rent  not_given   labourer   \n",
      "2     F  52.830002           15.000      owner      given  creative_   \n",
      "3     M  22.670000            2.540       rent  not_given  creative_   \n",
      "4     M  29.250000           13.000      owner      given     driver   \n",
      "..   ..        ...              ...        ...        ...        ...   \n",
      "424   M  34.169998            2.750      owner      given  guard_etc   \n",
      "425   F  22.250000            1.250       rent  not_given  unemploye   \n",
      "426   M  23.330000            1.500      owner      given  creative_   \n",
      "427   M  21.000000            4.790       rent  not_given  productio   \n",
      "428   M  27.750000            1.290      owner      given   labourer   \n",
      "\n",
      "    Job_status  Time_employed  Time_bank Liab_ref    Acc_ref  Home_Expn  \\\n",
      "0    unemploye              0          0        f      given        145   \n",
      "1    governmen              0          0        t      given        140   \n",
      "2    private_s              5         14        f      given          0   \n",
      "3    governmen              2          0        f      given          0   \n",
      "4    governmen              0          0        f      given        228   \n",
      "..         ...            ...        ...      ...        ...        ...   \n",
      "424  self_empl              2          0        t      given        232   \n",
      "425  unemploye              3          0        f      given        280   \n",
      "426  governmen              1          0        f      given        422   \n",
      "427  private_s              2          1        t      given         80   \n",
      "428  governmen              0          0        t  oth_inst_        140   \n",
      "\n",
      "     Balance Decision  \n",
      "0          0   reject  \n",
      "1          0   reject  \n",
      "2       2200   accept  \n",
      "3          0   accept  \n",
      "4          0   reject  \n",
      "..       ...      ...  \n",
      "424      200   reject  \n",
      "425        0   reject  \n",
      "426      200   accept  \n",
      "427      300   accept  \n",
      "428        0   reject  \n",
      "\n",
      "[429 rows x 14 columns]\n",
      "-------Mean -------\n",
      "31.51016316713987\n",
      "-------Variance -------\n",
      "140.27074594116948\n",
      "-------correlation coefficient -------\n",
      "0.21734150131364385\n",
      "-------conditional probability p(Decision = reject | Occupation = Unemployed) -------\n",
      "0.8666666666666667\n",
      "-------frequency of values in the Job-status column-------\n",
      "[ 31.  82. 265.  37.   8.   5.   1.]\n"
     ]
    },
    {
     "data": {
      "image/png": "[encoded data removed]",
      "text/plain": [
       "<Figure size 432x288 with 1 Axes>"
      ]
     },
     "metadata": {
      "needs_background": "light"
     },
     "output_type": "display_data"
    }
   ],
   "source": [
    "#Asgmt 15\n",
    "import pandas as pd\n",
    "\n",
    "print('-------DataFrame is initalised from Excel File -------')\n",
    "df5 = pd.read_excel('loan.xlsx')\n",
    "print(df5)\n",
    "\n",
    "print(\"-------Mean -------\")\n",
    "print(df5['Age'].mean())\n",
    "print(\"-------Variance -------\")\n",
    "print(df5['Age'].var())\n",
    "\n",
    "print(\"-------correlation coefficient -------\")\n",
    "print(df5['Age'].corr(df5['Time_at_address']))\n",
    "\n",
    "print(\"-------conditional probability p(Decision = reject | Occupation = Unemployed) -------\")\n",
    "unemp_df    = df5[ df5['Occupation'] == \"unemploye\" ]\n",
    "rejUnemp_df = unemp_df[ unemp_df['Decision']== \"reject\" ]\n",
    "#P(A|B) = P(A ∩ B) / P(B)\n",
    "probability = len(rejUnemp_df.index)/len(unemp_df.index)\n",
    "print(probability)\n",
    "\n",
    "print(\"-------frequency of values in the Job-status column-------\")\n",
    "import matplotlib.pyplot as plt\n",
    "jobs_df = df5['Job_status']\n",
    "counts, _,_ = plt.hist(jobs_df, bins = jobs_df.nunique())\n",
    "print(counts)\n",
    "plt.show()"
   ]
  },
  {
   "cell_type": "code",
   "execution_count": 16,
   "id": "7ad0915d-002a-4866-b5b1-0dafb936f070",
   "metadata": {},
   "outputs": [
    {
     "name": "stdout",
     "output_type": "stream",
     "text": [
      "  Sex        Age  Time_at_address Res_status  Telephone Occupation Job_status  \\\n",
      "0   M  50.750000            0.585      owner      given  unemploye  unemploye   \n",
      "1   M  19.670000           10.000       rent  not_given   labourer  governmen   \n",
      "2   F  52.830002           15.000      owner      given  creative_  private_s   \n",
      "3   M  22.670000            2.540       rent  not_given  creative_  governmen   \n",
      "4   M  29.250000           13.000      owner      given     driver  governmen   \n",
      "\n",
      "   Time_employed  Time_bank Liab_ref Acc_ref  Home_Expn  Balance Decision  \n",
      "0              0          0        f   given        145        0   reject  \n",
      "1              0          0        t   given        140        0   reject  \n",
      "2              5         14        f   given          0     2200   accept  \n",
      "3              2          0        f   given          0        0   accept  \n",
      "4              0          0        f   given        228        0   reject  \n",
      "Col\t\tChi-Square\t\tP value\n",
      "Sex\t\t0.9698325379091995\t\t0.32472194700727103\n",
      "Res_status\t\t7.645830831133978\t\t0.005690368175836289\n",
      "Telephone\t\t7.645830831133978\t\t0.005690368175836289\n",
      "Occupation\t\t54.399272667846525\t\t9.980070508394483e-08\n",
      "Job_status\t\t25.619055363910597\t\t0.0002621149847778766\n",
      "Liab_ref\t\t1.7463603456735195\t\t0.1863349426112134\n",
      "Acc_ref\t\t4.061563099061301\t\t0.04386987339959904\n",
      "Col\t\tMutual Information\n",
      "Sex\t\t0.0013786499819645193\n",
      "Res_status\t\t0.009895724904181002\n",
      "Telephone\t\t0.009895724904181002\n",
      "Occupation\t\t0.06716078077337792\n",
      "Job_status\t\t0.0325517640851245\n",
      "Liab_ref\t\t0.0023466823536576475\n",
      "Acc_ref\t\t0.00595127695583228\n"
     ]
    }
   ],
   "source": [
    "#Asgmt 16\n",
    "from scipy.stats import chi2_contingency\n",
    "from sklearn.metrics import mutual_info_score\n",
    "\n",
    "df5 = pd.read_excel('loan.xlsx')\n",
    "print(df5.head())\n",
    "cols = ['Sex','Res_status','Telephone','Occupation','Job_status','Liab_ref','Acc_ref']\n",
    "\n",
    "print(\"Col\", \"Chi-Square\", \"P value\", sep=\"\\t\\t\")\n",
    "for col in cols:\n",
    "    contigency1 = pd.crosstab( df5[col], df5['Decision'] )\n",
    "    c, p, dof, expected = chi2_contingency(contigency1)\n",
    "    print(col, c, p, sep=\"\\t\\t\")\n",
    "\n",
    "print (\"Col\",\"Mutual Information\", sep=\"\\t\\t\")\n",
    "for col in cols:\n",
    "    mi = mutual_info_score( df5[col], df5['Decision'] )\n",
    "    print(col, mi, sep=\"\\t\\t\")"
   ]
  },
  {
   "cell_type": "code",
   "execution_count": 11,
   "id": "26a8dcea-a76b-4067-83bf-f2a151b990b8",
   "metadata": {},
   "outputs": [
    {
     "name": "stdout",
     "output_type": "stream",
     "text": [
      "Price 12.00\n"
     ]
    }
   ],
   "source": [
    "#Asgmt 17\n",
    "#class\n",
    "class Lunch:\n",
    "    def __init__(self, menu):\n",
    "        self.menu = menu\n",
    "    def menu_price(self):\n",
    "        if self.menu == \"menu 1\":\n",
    "            print(\"Price 12.00\")\n",
    "        elif self.menu == \"menu 2\":\n",
    "            print(\"Price 13.40\")\n",
    "        \n",
    "Paul = Lunch(\"menu 1\")\n",
    "Paul.menu_price()"
   ]
  },
  {
   "cell_type": "code",
   "execution_count": null,
   "id": "47454d72-a4df-4429-80c6-6b69e1280159",
   "metadata": {},
   "outputs": [],
   "source": []
  },
  {
   "cell_type": "code",
   "execution_count": null,
   "id": "fa3f8908-2b17-4d11-81ae-354e4873cf0c",
   "metadata": {},
   "outputs": [],
   "source": []
  }
 ],
 "metadata": {
  "kernelspec": {
   "display_name": "Python 3 (ipykernel)",
   "language": "python",
   "name": "python3"
  },
  "language_info": {
   "codemirror_mode": {
    "name": "ipython",
    "version": 3
   },
   "file_extension": ".py",
   "mimetype": "text/x-python",
   "name": "python",
   "nbconvert_exporter": "python",
   "pygments_lexer": "ipython3",
   "version": "3.10.2"
  }
 },
 "nbformat": 4,
 "nbformat_minor": 5
}
